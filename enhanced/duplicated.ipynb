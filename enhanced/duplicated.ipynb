{
 "cells": [
  {
   "cell_type": "markdown",
   "metadata": {},
   "source": [
    "This is maybe trivial, but code duplication is, so common"
   ]
  },
  {
   "cell_type": "code",
   "execution_count": 41,
   "metadata": {},
   "outputs": [],
   "source": [
    "class Account:\n",
    "    def __init__(self, account_id, debits, credits, fees, balance):\n",
    "        self.account_id = account_id\n",
    "        self.debits = debits\n",
    "        self.credits = credits\n",
    "        self.fees = fees\n",
    "        self.balance = balance"
   ]
  },
  {
   "cell_type": "code",
   "execution_count": 48,
   "metadata": {},
   "outputs": [],
   "source": [
    "# Sample dictionary\n",
    "sample_account = Account(account_id=1345, debits=5000.50, credits=3000.25, fees=-50.00, balance=-2000.75)\n",
    "# sample dictionary\n",
    "accounts_dict = {\n",
    "    12345: Account(account_id=12345, debits=5000.50, credits=3000.25, fees=-50.00, balance=-2000.75),\n",
    "    67890: Account(account_id=67890, debits=10000.75, credits=5000.50, fees=0.00, balance=5000.25)\n",
    "}"
   ]
  },
  {
   "cell_type": "code",
   "execution_count": 100,
   "metadata": {},
   "outputs": [],
   "source": [
    "def print_balance(account):\n",
    "    \n",
    "    print(\"Account Id: \", account.account_id)\n",
    "    \n",
    "    print(\"Debits: {:10.2f}\\n\", account.debits)\n",
    "    print(\"Credits: {:10.2f}\\n\", account.credits)\n",
    "    \n",
    "    if account.fees < 0:\n",
    "        print(\"Fees: {:10.2f}\\n\", -account.fees)\n",
    "    else:\n",
    "        print(\"Fees: {:10.2f}\\n\", account.fees)\n",
    "    print(\"           ----------\\n\")\n",
    "    \n",
    "    if account.balance < 0:\n",
    "        print(\"Balance: {:10.2f}\\n\", -account.balance)\n",
    "    else:\n",
    "        print(\"Balance: {:10.2f}\\n\", account.balance)"
   ]
  },
  {
   "cell_type": "code",
   "execution_count": 43,
   "metadata": {},
   "outputs": [
    {
     "name": "stdout",
     "output_type": "stream",
     "text": [
      "Account Id:  1345\n",
      "debits: {:10.2f}\n",
      " 5000.5\n",
      "credits: {:10.2f}\n",
      " 3000.25\n",
      "Fees: {:10.2f}\n",
      " 50.0\n",
      "           ----------\n",
      "\n",
      "Balance: {:10.2f}\n",
      " 2000.75\n"
     ]
    }
   ],
   "source": [
    "print_balance(sample_account)"
   ]
  },
  {
   "cell_type": "code",
   "execution_count": 51,
   "metadata": {},
   "outputs": [],
   "source": [
    "def history_balance(account_id, account_dict):\n",
    "    account = accounts_dict.get(account_id)\n",
    "    if account:\n",
    "        print(\"Account Id: \", account.account_id)\n",
    "        \n",
    "        print(\"Debits: {:10.2f}\\n\".format(account.debits))\n",
    "        print(\"Credits: {:10.2f}\\n\".format(account.credits))\n",
    "        \n",
    "        if account.fees < 0:\n",
    "            print(\"Fees: {:10.2f}\\n\".format(-account.fees))\n",
    "        else:\n",
    "            print(\"Fees: {:10.2f}\\n\".format(account.fees))\n",
    "        print(\"           ----------\\n\")\n",
    "        \n",
    "        if account.balance < 0:\n",
    "            print(\"Balance: {:10.2f}\\n\".format(-account.balance))\n",
    "        else:\n",
    "            print(\"Balance: {:10.2f}\\n\".format(account.balance))\n",
    "    else:\n",
    "        print(\"Account ID {} not found\".format(account_id))"
   ]
  },
  {
   "cell_type": "code",
   "execution_count": 52,
   "metadata": {},
   "outputs": [
    {
     "name": "stdout",
     "output_type": "stream",
     "text": [
      "Account Id:  12345\n",
      "debits:    5000.50\n",
      "\n",
      "credits:    3000.25\n",
      "\n",
      "Fees:      50.00\n",
      "\n",
      "           ----------\n",
      "\n",
      "Balance:    2000.75\n",
      "\n"
     ]
    }
   ],
   "source": [
    "history_balance(12345, accounts_dict)"
   ]
  },
  {
   "cell_type": "markdown",
   "metadata": {},
   "source": [
    "# Reduce duplicating in code\n",
    "this code below is improvement from above"
   ]
  },
  {
   "cell_type": "code",
   "execution_count": 92,
   "metadata": {},
   "outputs": [],
   "source": [
    "def format_amount(value):\n",
    "    results = \"{:10.2f}\".format(abs(value))\n",
    "    if value < 0:\n",
    "        return results + \"-\"\n",
    "    else: \n",
    "        return results + \" \"\n",
    "\n",
    "def print_balance(account):\n",
    "    print(\"Debits:  {:10.2f}\".format(account.debits))\n",
    "    print(\"Credits: {:10.2f}\".format(account.credits))\n",
    "    print(\"Fees:  {}\".format(format_amount(account.fees)))\n",
    "    print(\"          ----------\")\n",
    "    print(\"Balance:    {}\".format(format_amount(account.balance)))\n",
    "    "
   ]
  },
  {
   "cell_type": "code",
   "execution_count": 105,
   "metadata": {},
   "outputs": [
    {
     "name": "stdout",
     "output_type": "stream",
     "text": [
      "debits:     5000.50 \n",
      "credits:    3000.25 \n",
      "Fees:       50.00-\n",
      "          ----------\n",
      "Balance:       2000.75-\n"
     ]
    }
   ],
   "source": [
    "print_balance(sample_account)"
   ]
  },
  {
   "cell_type": "markdown",
   "metadata": {},
   "source": [
    "The result still there is some duplicates and some inconsitant"
   ]
  },
  {
   "cell_type": "code",
   "execution_count": 112,
   "metadata": {},
   "outputs": [],
   "source": [
    "def format_amount(value):\n",
    "    results = \"{:10.2f}\".format(abs(value))\n",
    "    if value < 0:\n",
    "        return results + \"-\"\n",
    "    else: \n",
    "        return results + \" \"\n",
    "\n",
    "def print_balance(account):\n",
    "    print(\"debits:  {}\".format(format_amount(account.debits)))\n",
    "    print(\"credits: {}\".format(format_amount(account.credits)))\n",
    "    print(\"Fees:    {}\".format(format_amount(account.fees)))\n",
    "    print(\"          ----------\")\n",
    "    print(\"Balance: {}\".format(format_amount(account.balance)))\n",
    "    "
   ]
  },
  {
   "cell_type": "code",
   "execution_count": 113,
   "metadata": {},
   "outputs": [
    {
     "name": "stdout",
     "output_type": "stream",
     "text": [
      "debits:     5000.50 \n",
      "credits:    3000.25 \n",
      "Fees:         50.00-\n",
      "          ----------\n",
      "Balance:    2000.75-\n"
     ]
    }
   ],
   "source": [
    "print_balance(sample_account)"
   ]
  },
  {
   "cell_type": "markdown",
   "metadata": {},
   "source": [
    "Another case to perform code in better ways"
   ]
  },
  {
   "cell_type": "code",
   "execution_count": 126,
   "metadata": {},
   "outputs": [],
   "source": [
    "def format_amount(value):\n",
    "    results = \"{:10.2f}\".format(abs(value))\n",
    "    if value < 0:\n",
    "        return results + \"-\"\n",
    "    else: \n",
    "        return results + \" \"\n",
    "\n",
    "def print_line(label, value):\n",
    "    print(\"{:<9}{}\".format(label, value))\n",
    "    \n",
    "def report_line(label, amount):\n",
    "    print_line(label + \":\", format_amount(amount))\n",
    "\n",
    "def print_balance(account):\n",
    "    report_line(\"Debits\", account.debits)\n",
    "    report_line(\"Credits\", account.credits)\n",
    "    report_line(\"Debits\", account.fees)\n",
    "    print_line(\"\", \"     ------\")\n",
    "    report_line(\"Debits\", account.balance)"
   ]
  },
  {
   "cell_type": "code",
   "execution_count": 127,
   "metadata": {},
   "outputs": [
    {
     "name": "stdout",
     "output_type": "stream",
     "text": [
      "Debits:     5000.50 \n",
      "Credits:    3000.25 \n",
      "Debits:       50.00-\n",
      "              ------\n",
      "Debits:     2000.75-\n"
     ]
    }
   ],
   "source": [
    "print_balance(sample_account)"
   ]
  },
  {
   "cell_type": "markdown",
   "metadata": {},
   "source": [
    "Not All Code Duplication is Knowledge Duplication"
   ]
  },
  {
   "cell_type": "code",
   "execution_count": 128,
   "metadata": {},
   "outputs": [],
   "source": [
    "def validate_type(value, expected_type):\n",
    "    if not isinstance(value, expected_type):\n",
    "        raise ValueError(f\"Expected {expected_type.__name__}, but got {type(value).__name__}\")\n",
    "\n",
    "def validate_min_integer(value, min_value):\n",
    "    if value < min_value:\n",
    "        raise ValueError(f\"Value must be at least {min_value}, but got {value}\")\n",
    "\n",
    "def validate_age(value):\n",
    "    validate_type(value, int)  # Check if value is an integer\n",
    "    validate_min_integer(value, 0)  # Check if value is at least 0\n",
    "\n",
    "def validate_quantity(value):\n",
    "    validate_type(value, int)  # Check if value is an integer\n",
    "    validate_min_integer(value, 0)  # Check if value is at least 0"
   ]
  },
  {
   "cell_type": "code",
   "execution_count": 131,
   "metadata": {},
   "outputs": [
    {
     "name": "stdout",
     "output_type": "stream",
     "text": [
      "Value must be at least 0, but got -25\n"
     ]
    }
   ],
   "source": [
    "try:\n",
    "    validate_age(-25)  # Valid input\n",
    "    validate_quantity(5)  # Invalid input, should raise an exception\n",
    "except ValueError as e:\n",
    "    print(e)"
   ]
  }
 ],
 "metadata": {
  "kernelspec": {
   "display_name": "Python 3",
   "language": "python",
   "name": "python3"
  },
  "language_info": {
   "codemirror_mode": {
    "name": "ipython",
    "version": 3
   },
   "file_extension": ".py",
   "mimetype": "text/x-python",
   "name": "python",
   "nbconvert_exporter": "python",
   "pygments_lexer": "ipython3",
   "version": "3.11.5"
  }
 },
 "nbformat": 4,
 "nbformat_minor": 2
}
