{
 "cells": [
  {
   "cell_type": "code",
   "execution_count": null,
   "metadata": {},
   "outputs": [],
   "source": [
    "import math as math"
   ]
  },
  {
   "cell_type": "code",
   "execution_count": null,
   "metadata": {},
   "outputs": [],
   "source": [
    "class Radius:\n",
    "    def __init__(self, radius=1.0):\n",
    "        \"\"\"Initializing using a default radius 1.0\"\"\"\n",
    "        self.radius = radius\n",
    "    \n",
    "    def __str__(self):\n",
    "        \"\"\"String representation of the Radius object\"\"\"\n",
    "        return 'This circle with radius of {:.2f}'.format(self.radius)\n",
    "    \n",
    "    def __repr__(self):\n",
    "        \"\"\"Return the formal string representation of the radius\"\"\"\n",
    "        return 'Circle'"
   ]
  }
 ],
 "metadata": {
  "language_info": {
   "name": "python"
  }
 },
 "nbformat": 4,
 "nbformat_minor": 2
}
